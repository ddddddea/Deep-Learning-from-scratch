{
 "cells": [
  {
   "cell_type": "code",
   "execution_count": 7,
   "metadata": {},
   "outputs": [
    {
     "name": "stdout",
     "output_type": "stream",
     "text": [
      "[1 2]\n"
     ]
    }
   ],
   "source": [
    "import numpy as np\n",
    "\n",
    "class Gate:\n",
    "    def __init__(self, name):\n",
    "        if name is \"AND\":\n",
    "            self.w = [0.5, 0.5]    \n",
    "            self.b = -0.7\n",
    "        elif name is \"XOR\":\n",
    "            self.w = [-0.5, -0.5]    \n",
    "            self.b = -0.7\n",
    "        else:\n",
    "            self.w = [0.6, 0.6]    \n",
    "            self.b = -0.5\n",
    "    def forward(self, x):\n",
    "        val = np.sum(self.w * x) + self.b\n",
    "        if val > 0:\n",
    "            return 1\n",
    "        else:\n",
    "            return 0\n",
    "        "
   ]
  },
  {
   "cell_type": "code",
   "execution_count": 8,
   "metadata": {},
   "outputs": [
    {
     "name": "stdout",
     "output_type": "stream",
     "text": [
      "str == str2\n",
      "str is str2\n"
     ]
    }
   ],
   "source": []
  }
 ],
 "metadata": {
  "kernelspec": {
   "display_name": "Python 3",
   "language": "python",
   "name": "python3"
  },
  "language_info": {
   "codemirror_mode": {
    "name": "ipython",
    "version": 3
   },
   "file_extension": ".py",
   "mimetype": "text/x-python",
   "name": "python",
   "nbconvert_exporter": "python",
   "pygments_lexer": "ipython3",
   "version": "3.11.1"
  },
  "orig_nbformat": 4,
  "vscode": {
   "interpreter": {
    "hash": "eab8d3fbd14cc4446558562382d1605c49fcf81ed57a4c80d699488d5b1a50b1"
   }
  }
 },
 "nbformat": 4,
 "nbformat_minor": 2
}
