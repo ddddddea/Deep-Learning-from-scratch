{
 "cells": [
  {
   "cell_type": "code",
   "execution_count": 57,
   "metadata": {},
   "outputs": [],
   "source": [
    "import numpy as np\n",
    "\n",
    "class Gate:\n",
    "    def __init__(self, name):\n",
    "        if name == \"AND\":\n",
    "            self.w = [0.5, 0.5]    \n",
    "            self.b = -0.7\n",
    "        elif name == \"NAND\":\n",
    "            self.w = [-0.5, -0.5]    \n",
    "            self.b = 0.7\n",
    "        else:\n",
    "            self.w = [0.5, 0.5]    \n",
    "            self.b = -0.2\n",
    "    def forward(self, x):\n",
    "        val = np.sum(self.w * x) + self.b\n",
    "        if val > 0:\n",
    "            return 1\n",
    "        else:\n",
    "            return 0\n",
    "        \n",
    "class XOR:\n",
    "    def __init__(self):\n",
    "        self._nand = Gate(\"NAND\")\n",
    "        self._or = Gate(\"OR\")\n",
    "        self._and = Gate(\"AND\")\n",
    "    \n",
    "    def forward(self, x):\n",
    "        val = self._and.forward(np.array([self._nand.forward(x), self._or.forward(x)]))\n",
    "        return val\n",
    "        \n",
    "        \n",
    "        "
   ]
  },
  {
   "cell_type": "code",
   "execution_count": null,
   "metadata": {},
   "outputs": [],
   "source": [
    "xor_gate = XOR()\n",
    "\n",
    "\n",
    "print(xor_gate.forward(np.array([0, 0]))) # 0\n",
    "print(xor_gate.forward(np.array([1, 0]))) # 1\n",
    "print(xor_gate.forward(np.array([0, 1]))) # 1\n",
    "print(xor_gate.forward(np.array([1, 1]))) # 0\n"
   ]
  }
 ],
 "metadata": {
  "kernelspec": {
   "display_name": "Python 3",
   "language": "python",
   "name": "python3"
  },
  "language_info": {
   "codemirror_mode": {
    "name": "ipython",
    "version": 3
   },
   "file_extension": ".py",
   "mimetype": "text/x-python",
   "name": "python",
   "nbconvert_exporter": "python",
   "pygments_lexer": "ipython3",
   "version": "3.11.1"
  },
  "orig_nbformat": 4,
  "vscode": {
   "interpreter": {
    "hash": "eab8d3fbd14cc4446558562382d1605c49fcf81ed57a4c80d699488d5b1a50b1"
   }
  }
 },
 "nbformat": 4,
 "nbformat_minor": 2
}
